{
 "cells": [
  {
   "cell_type": "code",
   "execution_count": 3,
   "id": "a71e36f2",
   "metadata": {},
   "outputs": [],
   "source": [
    " '''Module 3: Individual Programming Assignment 1\n",
    "\n",
    "Thinking Like a Programmer\n",
    "\n",
    "This assignment covers your intermediate proficiency with Python.\n",
    "'''\n",
    "\n",
    "def shift_letter(letter, shift):\n",
    "    '''Shift Letter. \n",
    "    4 points.\n",
    "    \n",
    "    Shift a letter right by the given number.\n",
    "    Wrap the letter around if it reaches the end of the alphabet.\n",
    "\n",
    "    Examples:\n",
    "    shift_letter(\"A\", 0) -> \"A\"\n",
    "    shift_letter(\"A\", 2) -> \"C\"\n",
    "    shift_letter(\"Z\", 1) -> \"A\"\n",
    "    shift_letter(\"X\", 5) -> \"C\"\n",
    "    shift_letter(\" \", _) -> \" \"\n",
    "\n",
    "    *Note: the single underscore `_` is used to acknowledge the presence\n",
    "        of a value without caring about its contents.\n",
    "\n",
    "    Parameters\n",
    "    ----------\n",
    "    letter: str\n",
    "        a single uppercase English letter, or a space.\n",
    "    shift: int\n",
    "        the number by which to shift the letter. \n",
    "\n",
    "    Returns\n",
    "    -------\n",
    "    str\n",
    "        the letter, shifted appropriately, if a letter.\n",
    "        a single space if the original letter was a space.\n",
    "    '''\n",
    "    # Replace `pass` with your code. \n",
    "    # Stay within the function. Only use the parameters as input. The function should return your answer.\n",
    "def shift_letter(letter, shift):\n",
    "    if letter == ' ' and letter_shift == '_':\n",
    "        return ' '\n",
    "    \n",
    "    result = ord(letter) + shift\n",
    "    while result > ord('Z'):\n",
    "        result -= 26\n",
    "    while result < ord('A'):\n",
    "        result += 26\n",
    "    return chr(result)\n",
    "        \n",
    "        \n",
    "\n",
    "def caesar_cipher(message, shift):\n",
    "    '''Caesar Cipher. \n",
    "    6 points.\n",
    "    \n",
    "    Apply a shift number to a string of uppercase English letters and spaces.\n",
    "\n",
    "    Parameters\n",
    "    ----------\n",
    "    message: str\n",
    "        a string of uppercase English letters and spaces.\n",
    "    shift: int\n",
    "        the number by which to shift the letters. \n",
    "\n",
    "    Returns\n",
    "    -------\n",
    "    str\n",
    "        the message, shifted appropriately.\n",
    "    '''\n",
    "    # Replace `pass` with your code. \n",
    "    # Stay within the function. Only use the parameters as input. The function should return your answer.\n",
    "def caesar_cipher(message, shift):\n",
    "    alphabet = 'abcdefghijklmnopqrstuvwxyz'\n",
    "    new_msg = ''\n",
    "    for char in message:\n",
    "        char = char.lower()\n",
    "        if char != ' ':\n",
    "            index = alphabet.find(char)\n",
    "            print(index)\n",
    "            if index == -1:\n",
    "                new_msg += char\n",
    "            else:\n",
    "                new_shift = index + shift\n",
    "                if new_shift >= 26:\n",
    "                    new_shift -= 26\n",
    "                new_msg += alphabet[new_shift]\n",
    "        else: \n",
    "            new_msg += ' '\n",
    "    return new_msg\n",
    "\n",
    "def shift_by_letter(letter, letter_shift):\n",
    "    '''Shift By Letter. \n",
    "    4 points.\n",
    "    \n",
    "    Shift a letter to the right using the number equivalent of another letter.\n",
    "    The shift letter is any letter from A to Z, where A represents 0, B represents 1, \n",
    "        ..., Z represents 25.\n",
    "\n",
    "    Examples:\n",
    "    shift_by_letter(\"A\", \"A\") -> \"A\"\n",
    "    shift_by_letter(\"A\", \"C\") -> \"C\"\n",
    "    shift_by_letter(\"B\", \"K\") -> \"L\"\n",
    "    shift_by_letter(\" \", _) -> \" \"\n",
    "\n",
    "    Parameters\n",
    "    ----------\n",
    "    letter: str\n",
    "        a single uppercase English letter, or a space.\n",
    "    letter_shift: str\n",
    "        a single uppercase English letter.\n",
    "\n",
    "    Returns\n",
    "    -------\n",
    "    str\n",
    "        the letter, shifted appropriately.\n",
    "    '''\n",
    "    # Replace `pass` with your code. \n",
    "    # Stay within the function. Only use the parameters as input. The function should return your answer.\n",
    "def shift_by_letter(letter, letter_shift):\n",
    "    letters = ['A','B','C','D','E','F','G','H','I','J','K','L','M','N','O','P','Q','R','S','T','U','V','W','X','Y','Z']\n",
    "    \n",
    "    letters_values = [*range(0,27)]\n",
    "    \n",
    "    dictionary = dict(zip(letters,letters_values))\n",
    "    shift = dictionary.get(letter_shift)\n",
    "    print(shift)\n",
    "    \n",
    "    if letter == ' ' and letter_shift =='_':\n",
    "        \n",
    "    result = ord(letter) + shift\n",
    "    while result > ord('Z'):\n",
    "        result -= 26\n",
    "    while result < ord('A'):\n",
    "        result += 26\n",
    "    return chr(result)\n",
    "    \n",
    "    \n",
    "def vigenere_cipher(message, key):\n",
    "    '''Vigenere Cipher. \n",
    "    6 points.\n",
    "    \n",
    "    Encrypts a message using a keyphrase instead of a static number.\n",
    "    Every letter in the message is shifted by the number represented by the \n",
    "        respective letter in the key.\n",
    "    Spaces should be ignored.\n",
    "\n",
    "    Example:\n",
    "    vigenere_cipher(\"A C\", \"KEY\") -> \"K A\"\n",
    "\n",
    "    If needed, the keyphrase is extended to match the length of the key.\n",
    "        If the key is \"KEY\" and the message is \"LONGTEXT\",\n",
    "        the key will be extended to be \"KEYKEYKE\".\n",
    "\n",
    "    Parameters\n",
    "    ----------\n",
    "    message: str\n",
    "        a string of uppercase English letters and spaces.\n",
    "    key: str\n",
    "        a string of uppercase English letters. Will never be longer than the message.\n",
    "        Will never contain spaces.\n",
    "\n",
    "    Returns\n",
    "    -------\n",
    "    str\n",
    "        the message, shifted appropriately.\n",
    "    '''\n",
    "    # Replace `pass` with your code. \n",
    "    # Stay within the function. Only use the parameters as input. The function should return your answer.\n",
    "def vigenere_cipher(message, key):\n",
    "    \n",
    "    key = (key * (len(message) // len(key) + 1))[:len(message)]\n",
    "  \n",
    "    shifted_message = \"\"\n",
    "    for i in range(len(message)):\n",
    "        if message[i] == \" \":\n",
    "            shifted_message += \" \"\n",
    "        else:\n",
    "            if key[i] == \" \":\n",
    "                shifted_message += message[i]\n",
    "            else:\n",
    "                shift = alphabet.index(key[i])\n",
    "                shifted_letter = shift_letter(message[i], shift)\n",
    "                shifted_message += shifted_letter\n",
    "            \n",
    "    return shifted_message\n",
    "     print(\"Vigenere cipher of message: \" + shifted_message)"
   ]
  },
  {
   "cell_type": "code",
   "execution_count": 16,
   "id": "260d201e",
   "metadata": {},
   "outputs": [],
   "source": [
    "def shift_letter(letter, shift):\n",
    "    if letter == ' ' and letter_shift == '_':\n",
    "        return ' '\n",
    "    \n",
    "    result = ord(letter) + shift\n",
    "    while result > ord('Z'):\n",
    "        result -= 26\n",
    "    while result < ord('A'):\n",
    "        result += 26\n",
    "    return chr(result)"
   ]
  },
  {
   "cell_type": "code",
   "execution_count": 6,
   "id": "96e077ec",
   "metadata": {},
   "outputs": [
    {
     "data": {
      "text/plain": [
       "'C'"
      ]
     },
     "execution_count": 6,
     "metadata": {},
     "output_type": "execute_result"
    }
   ],
   "source": [
    "shift_letter('X', 5)"
   ]
  },
  {
   "cell_type": "code",
   "execution_count": 17,
   "id": "c87f0235",
   "metadata": {},
   "outputs": [],
   "source": [
    "def shift_by_letter(letter, letter_shift):\n",
    "    letters = ['A','B','C','D','E','F','G','H','I','J','K','L','M','N','O','P','Q','R','S','T','U','V','W','X','Y','Z']\n",
    "    \n",
    "    letters_values = [*range(0,27)]\n",
    "    \n",
    "    dictionary = dict(zip(letters,letters_values))\n",
    "    shift = dictionary.get(letter_shift)\n",
    "    print(shift)\n",
    "    \n",
    "    if letter == ' ' and letter_shift =='_':\n",
    "        return ' '\n",
    "    \n",
    "    result = ord(letter) + shift\n",
    "    while result > ord('Z'):\n",
    "        result -= 26\n",
    "    while result < ord('A'):\n",
    "        result += 26\n",
    "    return chr(result)"
   ]
  },
  {
   "cell_type": "code",
   "execution_count": 10,
   "id": "07b33832",
   "metadata": {},
   "outputs": [
    {
     "name": "stdout",
     "output_type": "stream",
     "text": [
      "2\n"
     ]
    },
    {
     "data": {
      "text/plain": [
       "'B'"
      ]
     },
     "execution_count": 10,
     "metadata": {},
     "output_type": "execute_result"
    }
   ],
   "source": [
    "shift_by_letter('Z','C')"
   ]
  },
  {
   "cell_type": "code",
   "execution_count": 18,
   "id": "1aad4343",
   "metadata": {},
   "outputs": [],
   "source": [
    "def caesar_cipher(message, shift):\n",
    "    alphabet = 'abcdefghijklmnopqrstuvwxyz'\n",
    "    new_msg = ''\n",
    "    for char in message:\n",
    "        char = char.lower()\n",
    "        if char != ' ':\n",
    "            index = alphabet.find(char)\n",
    "            print(index)\n",
    "            if index == -1:\n",
    "                new_msg += char\n",
    "            else:\n",
    "                new_shift = index + shift\n",
    "                if new_shift >= 26:\n",
    "                    new_shift -= 26\n",
    "                new_msg += alphabet[new_shift]\n",
    "        else: \n",
    "            new_msg += ' '\n",
    "    return new_msg"
   ]
  },
  {
   "cell_type": "code",
   "execution_count": 3,
   "id": "7b5486fe-9c85-4e93-a6ad-e2b81c63b8cd",
   "metadata": {},
   "outputs": [
    {
     "name": "stdout",
     "output_type": "stream",
     "text": [
      "7\n",
      "4\n",
      "11\n",
      "11\n",
      "14\n",
      "22\n",
      "14\n",
      "17\n",
      "11\n",
      "3\n"
     ]
    },
    {
     "data": {
      "text/plain": [
       "'ifmmp xpsme'"
      ]
     },
     "execution_count": 3,
     "metadata": {},
     "output_type": "execute_result"
    }
   ],
   "source": [
    "caesar_cipher('hello world',1)"
   ]
  },
  {
   "cell_type": "code",
   "execution_count": 19,
   "id": "e57337a8-d5a1-4965-a6d7-381d89aee53d",
   "metadata": {},
   "outputs": [],
   "source": [
    "def vigenere_cipher(message, key):\n",
    "    alphabet = list(\"ABCDEFGHIJKLMNOPQRSTUVWXYZ\")\n",
    "    key = (key * (len(message) // len(key) + 1))[:len(message)]\n",
    "  \n",
    "    shifted_message = \"\"\n",
    "    for i in range(len(message)):\n",
    "        if message[i] == \" \":\n",
    "            shifted_message += \" \"\n",
    "        else:\n",
    "            if key[i] == \" \":\n",
    "                shifted_message += message[i]\n",
    "            else:\n",
    "                shift = alphabet.index(key[i])\n",
    "                shifted_letter = shift_letter(message[i], shift)\n",
    "                shifted_message += shifted_letter\n",
    "            \n",
    "    return shifted_message\n",
    "    print(\"Vigenere cipher of message: \" + shifted_message)"
   ]
  },
  {
   "cell_type": "code",
   "execution_count": 22,
   "id": "63562031-246e-4ced-8642-c2d901800b8e",
   "metadata": {},
   "outputs": [
    {
     "data": {
      "text/plain": [
       "'K A'"
      ]
     },
     "execution_count": 22,
     "metadata": {},
     "output_type": "execute_result"
    }
   ],
   "source": [
    "vigenere_cipher(\"A C\", \"KEY\")"
   ]
  }
 ],
 "metadata": {
  "kernelspec": {
   "display_name": "Python 3 (ipykernel)",
   "language": "python",
   "name": "python3"
  },
  "language_info": {
   "codemirror_mode": {
    "name": "ipython",
    "version": 3
   },
   "file_extension": ".py",
   "mimetype": "text/x-python",
   "name": "python",
   "nbconvert_exporter": "python",
   "pygments_lexer": "ipython3",
   "version": "3.9.13"
  }
 },
 "nbformat": 4,
 "nbformat_minor": 5
}
